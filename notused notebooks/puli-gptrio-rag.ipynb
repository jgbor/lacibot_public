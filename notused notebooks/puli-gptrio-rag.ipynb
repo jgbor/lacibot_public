{
  "cells": [
    {
      "cell_type": "code",
      "execution_count": null,
      "metadata": {
        "colab": {
          "base_uri": "https://localhost:8080/"
        },
        "id": "xbotysgxbhY3",
        "outputId": "8a8186a6-48e2-43ff-fbfe-992ea76439d1"
      },
      "outputs": [],
      "source": [
        "%pip install langchain --quiet\n",
        "%pip install chromadb --quiet\n",
        "%pip install tiktoken --quiet\n",
        "%pip install transformers --quiet\n",
        "%pip install xformer --quiet\n",
        "%pip install sentence-transformers --quiet\n",
        "%pip install openai --quiet"
      ]
    },
    {
      "cell_type": "markdown",
      "metadata": {
        "id": "HFjha4h5bhY4"
      },
      "source": [
        "### Paraméterek"
      ]
    },
    {
      "cell_type": "code",
      "execution_count": null,
      "metadata": {
        "id": "25LlaBfobhY7"
      },
      "outputs": [],
      "source": [
        "# használt erőforrások mappája\n",
        "res_folder = \"res/in_use/\"\n",
        "    \n",
        "# splitting paraméterek\n",
        "chunk_size = 500\n",
        "chunk_overlap = 50\n",
        "\n",
        "# vector store paraméterek\n",
        "persist_directory = \"res/chroma/\"\n",
        "search_type = \"mmr\"\n",
        "search_k = 5\n",
        "search_fetch_k = 8\n",
        "lambda_mult = 0.6\n",
        "\n",
        "# memória\n",
        "memory_k = 3\n",
        "\n",
        "# ChatGPT paraméterek\n",
        "temperature = 0.4\n",
        "max_tokens = 500\n",
        "model_id = \"gpt-3.5-turbo\""
      ]
    },
    {
      "cell_type": "markdown",
      "metadata": {
        "id": "PFWbkrKobhY8"
      },
      "source": [
        "## Erőforrásfájlok betöltése\n",
        "\n",
        "Ha már egyszer megtettük és van mentett vektor adatbázis, akkor nem kell újra futtatni.\n",
        "### CSV fájlok (nagyrészt kérdések) betöltése"
      ]
    },
    {
      "cell_type": "code",
      "execution_count": null,
      "metadata": {
        "colab": {
          "base_uri": "https://localhost:8080/"
        },
        "id": "mkXTkuO9bhY9",
        "outputId": "1fbd051f-c79c-4e56-ee2a-a73099fdbab8"
      },
      "outputs": [],
      "source": [
        "from langchain.document_loaders import CSVLoader, DirectoryLoader\n",
        "\n",
        "directory_loader = DirectoryLoader(res_folder, glob=\"*.csv\", use_multithreading=True, loader_cls=CSVLoader, loader_kwargs={\"encoding\": \"utf-8\"})\n",
        "csv_data = directory_loader.load()\n",
        "print(len(csv_data))\n",
        "#csv_data\n"
      ]
    },
    {
      "cell_type": "markdown",
      "metadata": {
        "id": "76PSvbI1bhY-"
      },
      "source": [
        "### Szöveges fájlok betöltése, majd feldarabolása"
      ]
    },
    {
      "cell_type": "code",
      "execution_count": null,
      "metadata": {
        "colab": {
          "base_uri": "https://localhost:8080/"
        },
        "id": "LCbRYsK2bhY_",
        "outputId": "5fbc26de-a596-423e-fe73-1ea22849d572"
      },
      "outputs": [],
      "source": [
        "from langchain.document_loaders import DirectoryLoader, TextLoader\n",
        "\n",
        "directory_loader = DirectoryLoader(res_folder, glob=\"*.txt\", use_multithreading=True, loader_cls=TextLoader, loader_kwargs={\"encoding\": \"utf-8\"})\n",
        "text_data = directory_loader.load()\n",
        "len(text_data)"
      ]
    },
    {
      "cell_type": "code",
      "execution_count": null,
      "metadata": {
        "colab": {
          "base_uri": "https://localhost:8080/"
        },
        "id": "mdLYeKNibhZA",
        "outputId": "dcbd1275-eb6b-4a6e-e5c4-df4fd3bd4167"
      },
      "outputs": [],
      "source": [
        "from langchain.text_splitter import RecursiveCharacterTextSplitter\n",
        "\n",
        "text_splitter = RecursiveCharacterTextSplitter(\n",
        "    chunk_size=chunk_size,\n",
        "    chunk_overlap=chunk_overlap,\n",
        "    length_function=len,\n",
        "    is_separator_regex=True,\n",
        "    separators=[\"\\n\\s*\\n\", \"\\n\\s*\", \"\\n\"]\n",
        ")\n",
        "\n",
        "split_text_data = text_splitter.split_documents(text_data)\n",
        "print(len(split_text_data))\n",
        "#split_text_data"
      ]
    },
    {
      "cell_type": "markdown",
      "metadata": {
        "id": "IsCUXrcRbhZB"
      },
      "source": [
        "### VectorStore inicializálása Chroma-val"
      ]
    },
    {
      "cell_type": "code",
      "execution_count": null,
      "metadata": {
        "id": "qZPzvLWxbhZC"
      },
      "outputs": [],
      "source": [
        "from langchain.embeddings import HuggingFaceEmbeddings\n",
        "from langchain.embeddings import OpenAIEmbeddings\n",
        "from langchain.vectorstores.chroma import Chroma\n",
        "\n",
        "#embedding = HuggingFaceEmbeddings(model_name= \"sentence-transformers/all-mpnet-base-v2\")\n",
        "embedding = OpenAIEmbeddings()"
      ]
    },
    {
      "cell_type": "code",
      "execution_count": null,
      "metadata": {
        "id": "UMriKIPxbhZD"
      },
      "outputs": [],
      "source": [
        "# Elég egyszer futtatni, ha nem változtatunk az adatokon, mert lementi a vektoradatbázist.\n",
        "combined_data = []\n",
        "combined_data.extend(split_text_data)\n",
        "combined_data.extend(csv_data)\n",
        "\n",
        "vectordb = Chroma.from_documents(\n",
        "    documents=combined_data,\n",
        "    embedding=embedding,\n",
        "    persist_directory=persist_directory\n",
        ")\n",
        "\n",
        "vectordb.persist()"
      ]
    },
    {
      "cell_type": "markdown",
      "metadata": {
        "id": "fTlkrT7LbhZD"
      },
      "source": [
        "Ha le van már mentve, lehet ezt használni az előző cella  helyett:"
      ]
    },
    {
      "cell_type": "code",
      "execution_count": null,
      "metadata": {
        "id": "EZESSM7ObhZE"
      },
      "outputs": [],
      "source": [
        "vectordb = Chroma(persist_directory=persist_directory, embedding_function=embedding)"
      ]
    },
    {
      "cell_type": "code",
      "execution_count": null,
      "metadata": {
        "colab": {
          "base_uri": "https://localhost:8080/"
        },
        "id": "BcwY_bMCbhZE",
        "outputId": "ca4048b3-db0c-46d4-9ea7-5033e483f3f6"
      },
      "outputs": [],
      "source": [
        "# MMR teszt\n",
        "question = \"Ki a tárgyfelelős?\"\n",
        "search_result = vectordb.max_marginal_relevance_search(question,k = search_k, fetch_k = search_fetch_k, lambda_mult = lambda_mult)\n",
        "print(search_result)\n",
        "print(vectordb.similarity_search_with_relevance_scores(question))"
      ]
    },
    {
      "cell_type": "markdown",
      "metadata": {
        "id": "NLk-zHvjbhZF"
      },
      "source": [
        "### Memória config a chat historyhoz"
      ]
    },
    {
      "cell_type": "code",
      "execution_count": null,
      "metadata": {
        "id": "fXYrJgtGbhZF"
      },
      "outputs": [],
      "source": [
        "from langchain.memory import ConversationBufferWindowMemory\n",
        "\n",
        "memory = ConversationBufferWindowMemory(k = memory_k, memory_key=\"chat_history\", return_messages=True)"
      ]
    },
    {
      "cell_type": "markdown",
      "metadata": {
        "id": "Ok_xZ91wbhZF"
      },
      "source": [
        "## Chatbot Puli GPTrioval\n",
        "\n",
        "### ConversationalRetrievalChain használatával"
      ]
    },
    {
      "cell_type": "code",
      "execution_count": null,
      "metadata": {
        "colab": {
          "base_uri": "https://localhost:8080/",
          "height": 140,
          "referenced_widgets": [
            "28634cf99af6461696c52e978e455ff7",
            "2d030d9513d74056859840ba76d20a7a",
            "38021aac8c9c407f9375b8898eab0719",
            "da4249dc43df4673b8c368891a41105e",
            "c64aaaed9ca64898b9179419f1271047",
            "cc1142c670fc44d395d43d6283b060c4",
            "7e9b77b7dd8a454ba9a7374a320e9a16",
            "80ee10b7311a49e18ec1b9143f12e625",
            "ee009badc93740adbf45381332159329",
            "3fb1aae3f404436db4823a407aeece8c",
            "4fc87b1053604defbf939d7e8ba46294"
          ]
        },
        "id": "FdKLcsofbhZG",
        "outputId": "be8feb58-add0-4191-e432-ba1971b264f7"
      },
      "outputs": [],
      "source": [
        "from langchain.chains import ConversationalRetrievalChain\n",
        "from langchain.llms import HuggingFacePipeline\n",
        "from transformers import pipeline, GPTNeoXForCausalLM, AutoTokenizer\n",
        "from langchain.chains import StuffDocumentsChain, LLMChain, ConversationalRetrievalChain\n",
        "from langchain.prompts import PromptTemplate\n",
        "\n",
        "model_name = \"NYTK/PULI-GPTrio\"\n",
        "model = GPTNeoXForCausalLM.from_pretrained(model_name, temperature=0.4, max_length=50, top_k=20, top_p=1)\n",
        "tokenizer = AutoTokenizer.from_pretrained(model_name)\n",
        "pipe = pipeline(task=\"text-generation\", model=model, tokenizer=tokenizer)"
      ]
    },
    {
      "cell_type": "code",
      "execution_count": null,
      "metadata": {},
      "outputs": [],
      "source": [
        "llm = HuggingFacePipeline(pipeline=pipe)"
      ]
    },
    {
      "cell_type": "code",
      "execution_count": null,
      "metadata": {
        "id": "8ILas3eFVOSb"
      },
      "outputs": [],
      "source": [
        "template = \"\"\"A chat előzményekből és a következő inputból alakíts ki egy önmagában is helytálló kérdést, ha az input értelmezéséhez fontos kontextust tartalmaz!\n",
        "Ha az input nem kérdés vagy nem kapcsolódik már az előzményekhez, akkor csak add vissza az inputot!\n",
        "\n",
        "Chat előzmények:\n",
        "{chat_history}\n",
        "\n",
        "Következő input: {question}\n",
        "\n",
        "Átalakított kérdés:\"\"\"\n",
        "question_generator_prompt = PromptTemplate.from_template(template)\n",
        "question_generator_chain = LLMChain(\n",
        "    llm=llm,\n",
        "    prompt=question_generator_prompt,\n",
        "    verbose=True\n",
        ")"
      ]
    },
    {
      "cell_type": "code",
      "execution_count": null,
      "metadata": {},
      "outputs": [],
      "source": [
        "qa_template = \"\"\"A BME VIK szakmai gyakorlat kérdéseire válaszoló chatbot vagy. A kérdésekre magyarul válaszolj!\n",
        "Használd az alábbi dokumentumrészleteket forrásként a felhasználó kérdésének megválaszolásához!\n",
        "Ha azokból nem tudsz megadni releváns választ, akkor válaszold azt, hogy \"Sajnos erre nem tudok válaszolni, kérdezz mást a BME VIK szakmai gyakorlattal kapcsolatban\"\n",
        "\n",
        "DOKUMENTUMRÉSZLETEK:\n",
        "{context}\n",
        "\n",
        "ÚJ INPUT: {question}\n",
        "\n",
        "Válaszolj a kérdésre!\"\"\"\n",
        "\n",
        "qa_prompt = PromptTemplate.from_template(qa_template)\n",
        "llm_chain = LLMChain(\n",
        "    llm=llm,\n",
        "    prompt=qa_prompt,\n",
        "    verbose=True\n",
        ")\n",
        "combine_docs_chain = StuffDocumentsChain(\n",
        "    llm_chain=llm_chain,\n",
        "    document_variable_name=\"context\",\n",
        "    verbose=True\n",
        ")"
      ]
    },
    {
      "cell_type": "code",
      "execution_count": null,
      "metadata": {},
      "outputs": [],
      "source": [
        "memory.clear()\n",
        "chain = ConversationalRetrievalChain(\n",
        "    combine_docs_chain=combine_docs_chain,\n",
        "    retriever = vectordb.as_retriever(\n",
        "        searh_type = search_type,\n",
        "        search_kwargs = {\n",
        "            \"k\": search_k,\n",
        "            \"fetch_k\": search_fetch_k,\n",
        "            \"lambda_mult\": lambda_mult\n",
        "        }\n",
        "    ),\n",
        "    question_generator=question_generator_chain,\n",
        "    memory=memory,\n",
        "    #return_generated_question=True,\n",
        "    rephrase_question=True,\n",
        "    verbose=True\n",
        ")"
      ]
    },
    {
      "cell_type": "markdown",
      "metadata": {
        "id": "JvFk381ZbhZH"
      },
      "source": [
        "## Tesztelés\n",
        "\n",
        "#### Teszt kérdések betöltése"
      ]
    },
    {
      "cell_type": "code",
      "execution_count": null,
      "metadata": {
        "id": "R3vSFYPkbhZH",
        "outputId": "89da0366-918b-48cc-f26c-d5bed6f8a944"
      },
      "outputs": [],
      "source": [
        "import pandas as pd\n",
        "\n",
        "test_questions = pd.read_csv(\"testing/test_questions.csv\")\n",
        "print(len(test_questions))\n",
        "#test_questions"
      ]
    },
    {
      "cell_type": "code",
      "execution_count": null,
      "metadata": {
        "id": "g9kN2S1zbhZH",
        "outputId": "efcad3e7-b3b5-4f2e-9091-72b477ccc8ec"
      },
      "outputs": [],
      "source": [
        "%pip install pandas --quiet\n",
        "%pip install matplotlib --quiet"
      ]
    },
    {
      "cell_type": "code",
      "execution_count": null,
      "metadata": {
        "id": "O8n9fl_hbhZH",
        "outputId": "fd4f1523-4c80-444b-d100-89f0a7d70188"
      },
      "outputs": [],
      "source": [
        "import pandas as pd\n",
        "df = pd.DataFrame(columns=['Question', 'Document', 'Score'])\n",
        "chain.verbose = True\n",
        "\n",
        "for question in test_questions:\n",
        "    search_result = vectordb.similarity_search_with_relevance_scores(question, k = search_k)\n",
        "    for res in search_result:\n",
        "        df.loc[len(df)] = [question, res[0], res[1]]\n",
        "\n",
        "df"
      ]
    },
    {
      "cell_type": "code",
      "execution_count": null,
      "metadata": {
        "id": "RFP9rvM9bhZI"
      },
      "outputs": [],
      "source": [
        "# elmentés\n",
        "df.to_csv(f\"testing/results_k{search_k}_size{chunk_size}.csv\", index=False)"
      ]
    },
    {
      "cell_type": "markdown",
      "metadata": {
        "id": "tSuWNyAZbhZI"
      },
      "source": [
        "#### Gráf"
      ]
    },
    {
      "cell_type": "code",
      "execution_count": null,
      "metadata": {
        "id": "VEaBggLibhZI",
        "outputId": "44b15736-50da-4b2a-8fe2-ff6665f2ba98"
      },
      "outputs": [],
      "source": [
        "import matplotlib.pyplot as plt\n",
        "\n",
        "grouped = df.groupby('Question')\n",
        "\n",
        "fig, ax = plt.subplots()\n",
        "\n",
        "# Iterate over each group\n",
        "for i, (name, group) in enumerate(grouped, start=1):\n",
        "    group = group.reset_index(drop=True)\n",
        "    ax.plot(group.index+1, group['Score'], label=f\"Group {i}\")\n",
        "\n",
        "ax.legend(fontsize=8, loc='upper right')\n",
        "plt.xlabel('Index')\n",
        "plt.xlim(0.75, search_k+0.25)\n",
        "plt.xticks(range(1, search_k+1))\n",
        "\n",
        "plt.ylabel('Score')\n",
        "plt.ylim(min(df['Score']) - 0.005, max(df['Score']) + 0.005)\n",
        "\n",
        "plt.title('Score for Each Question')\n",
        "plt.show()"
      ]
    },
    {
      "cell_type": "code",
      "execution_count": null,
      "metadata": {
        "colab": {
          "base_uri": "https://localhost:8080/"
        },
        "id": "fIcF9j7GbhZJ",
        "outputId": "f98ef9e7-85d3-4365-8bf6-1492ed11ed91"
      },
      "outputs": [],
      "source": [
        "memory.buffer"
      ]
    },
    {
      "cell_type": "code",
      "execution_count": null,
      "metadata": {
        "id": "7OEMr53vbhZK"
      },
      "outputs": [],
      "source": [
        "# Ha törölni szeretnénk a memóriát\n",
        "memory.clear()"
      ]
    },
    {
      "cell_type": "markdown",
      "metadata": {
        "id": "J50BkENDbhZK"
      },
      "source": [
        "## Gradio UI a chatbothoz"
      ]
    },
    {
      "cell_type": "code",
      "execution_count": null,
      "metadata": {
        "colab": {
          "base_uri": "https://localhost:8080/"
        },
        "id": "n9DkEIaRbhZL",
        "outputId": "86e3e453-0f35-4146-caa2-73d0903df32c"
      },
      "outputs": [],
      "source": [
        "%pip install gradio --quiet"
      ]
    },
    {
      "cell_type": "code",
      "execution_count": null,
      "metadata": {
        "id": "1qdtNm6IbhZM"
      },
      "outputs": [],
      "source": [
        "def qa(message, history) -> str:\n",
        "    prompt = f'{message}\\nHa a kontextusból nem tudsz értelmes választ adni, akkor írd, hogy \"Nem tudok erre a kérdésre válaszolni, tegyél fel valamit a VIK szakmai gyakorlatával kapcsolatban.\"'\n",
        "    return chain({\"question\": prompt, \"chat_history\": memory.buffer})[\"answer\"]"
      ]
    },
    {
      "cell_type": "code",
      "execution_count": null,
      "metadata": {
        "colab": {
          "base_uri": "https://localhost:8080/",
          "height": 1000
        },
        "id": "jGargYnubhZN",
        "outputId": "9c43288d-7ada-4eb6-e737-bcf3ddc386a9"
      },
      "outputs": [],
      "source": [
        "import gradio as gr\n",
        "\n",
        "chain.verbose = True\n",
        "chat_ui = gr.ChatInterface(qa, title = \"Lacibot\", description=\"Kérdezz a VIK-es szakmai gyakorlatról!\", undo_btn=None)\n",
        "chat_ui.launch(debug=True)"
      ]
    },
    {
      "cell_type": "code",
      "execution_count": null,
      "metadata": {
        "colab": {
          "base_uri": "https://localhost:8080/"
        },
        "id": "TV1-VL3tbhZN",
        "outputId": "a0af4e32-269f-40e7-e5cd-9f3ec60268b7"
      },
      "outputs": [],
      "source": [
        "message= question\n",
        "prompt = f'{message}\\nHa a kontextusból nem tudsz értelmes választ adni, akkor írd, hogy \"Nem tudok erre a kérdésre válaszolni, tegyél fel valamit a VIK szakmai gyakorlatával kapcsolatban.\"'\n",
        "chain({\"question\": prompt, \"chat_history\": memory.buffer})"
      ]
    },
    {
      "cell_type": "code",
      "execution_count": null,
      "metadata": {
        "id": "cageHclZQS2F"
      },
      "outputs": [],
      "source": []
    }
  ],
  "metadata": {
    "accelerator": "GPU",
    "colab": {
      "gpuType": "T4",
      "machine_shape": "hm",
      "provenance": []
    },
    "kernelspec": {
      "display_name": "Python 3",
      "name": "python3"
    },
    "language_info": {
      "codemirror_mode": {
        "name": "ipython",
        "version": 3
      },
      "file_extension": ".py",
      "mimetype": "text/x-python",
      "name": "python",
      "nbconvert_exporter": "python",
      "pygments_lexer": "ipython3",
      "version": "3.11.6"
    },
    "orig_nbformat": 4,
    "widgets": {
      "application/vnd.jupyter.widget-state+json": {
        "28634cf99af6461696c52e978e455ff7": {
          "model_module": "@jupyter-widgets/controls",
          "model_module_version": "1.5.0",
          "model_name": "HBoxModel",
          "state": {
            "_dom_classes": [],
            "_model_module": "@jupyter-widgets/controls",
            "_model_module_version": "1.5.0",
            "_model_name": "HBoxModel",
            "_view_count": null,
            "_view_module": "@jupyter-widgets/controls",
            "_view_module_version": "1.5.0",
            "_view_name": "HBoxView",
            "box_style": "",
            "children": [
              "IPY_MODEL_2d030d9513d74056859840ba76d20a7a",
              "IPY_MODEL_38021aac8c9c407f9375b8898eab0719",
              "IPY_MODEL_da4249dc43df4673b8c368891a41105e"
            ],
            "layout": "IPY_MODEL_c64aaaed9ca64898b9179419f1271047"
          }
        },
        "2d030d9513d74056859840ba76d20a7a": {
          "model_module": "@jupyter-widgets/controls",
          "model_module_version": "1.5.0",
          "model_name": "HTMLModel",
          "state": {
            "_dom_classes": [],
            "_model_module": "@jupyter-widgets/controls",
            "_model_module_version": "1.5.0",
            "_model_name": "HTMLModel",
            "_view_count": null,
            "_view_module": "@jupyter-widgets/controls",
            "_view_module_version": "1.5.0",
            "_view_name": "HTMLView",
            "description": "",
            "description_tooltip": null,
            "layout": "IPY_MODEL_cc1142c670fc44d395d43d6283b060c4",
            "placeholder": "​",
            "style": "IPY_MODEL_7e9b77b7dd8a454ba9a7374a320e9a16",
            "value": "Loading checkpoint shards: 100%"
          }
        },
        "38021aac8c9c407f9375b8898eab0719": {
          "model_module": "@jupyter-widgets/controls",
          "model_module_version": "1.5.0",
          "model_name": "FloatProgressModel",
          "state": {
            "_dom_classes": [],
            "_model_module": "@jupyter-widgets/controls",
            "_model_module_version": "1.5.0",
            "_model_name": "FloatProgressModel",
            "_view_count": null,
            "_view_module": "@jupyter-widgets/controls",
            "_view_module_version": "1.5.0",
            "_view_name": "ProgressView",
            "bar_style": "success",
            "description": "",
            "description_tooltip": null,
            "layout": "IPY_MODEL_80ee10b7311a49e18ec1b9143f12e625",
            "max": 2,
            "min": 0,
            "orientation": "horizontal",
            "style": "IPY_MODEL_ee009badc93740adbf45381332159329",
            "value": 2
          }
        },
        "3fb1aae3f404436db4823a407aeece8c": {
          "model_module": "@jupyter-widgets/base",
          "model_module_version": "1.2.0",
          "model_name": "LayoutModel",
          "state": {
            "_model_module": "@jupyter-widgets/base",
            "_model_module_version": "1.2.0",
            "_model_name": "LayoutModel",
            "_view_count": null,
            "_view_module": "@jupyter-widgets/base",
            "_view_module_version": "1.2.0",
            "_view_name": "LayoutView",
            "align_content": null,
            "align_items": null,
            "align_self": null,
            "border": null,
            "bottom": null,
            "display": null,
            "flex": null,
            "flex_flow": null,
            "grid_area": null,
            "grid_auto_columns": null,
            "grid_auto_flow": null,
            "grid_auto_rows": null,
            "grid_column": null,
            "grid_gap": null,
            "grid_row": null,
            "grid_template_areas": null,
            "grid_template_columns": null,
            "grid_template_rows": null,
            "height": null,
            "justify_content": null,
            "justify_items": null,
            "left": null,
            "margin": null,
            "max_height": null,
            "max_width": null,
            "min_height": null,
            "min_width": null,
            "object_fit": null,
            "object_position": null,
            "order": null,
            "overflow": null,
            "overflow_x": null,
            "overflow_y": null,
            "padding": null,
            "right": null,
            "top": null,
            "visibility": null,
            "width": null
          }
        },
        "4fc87b1053604defbf939d7e8ba46294": {
          "model_module": "@jupyter-widgets/controls",
          "model_module_version": "1.5.0",
          "model_name": "DescriptionStyleModel",
          "state": {
            "_model_module": "@jupyter-widgets/controls",
            "_model_module_version": "1.5.0",
            "_model_name": "DescriptionStyleModel",
            "_view_count": null,
            "_view_module": "@jupyter-widgets/base",
            "_view_module_version": "1.2.0",
            "_view_name": "StyleView",
            "description_width": ""
          }
        },
        "7e9b77b7dd8a454ba9a7374a320e9a16": {
          "model_module": "@jupyter-widgets/controls",
          "model_module_version": "1.5.0",
          "model_name": "DescriptionStyleModel",
          "state": {
            "_model_module": "@jupyter-widgets/controls",
            "_model_module_version": "1.5.0",
            "_model_name": "DescriptionStyleModel",
            "_view_count": null,
            "_view_module": "@jupyter-widgets/base",
            "_view_module_version": "1.2.0",
            "_view_name": "StyleView",
            "description_width": ""
          }
        },
        "80ee10b7311a49e18ec1b9143f12e625": {
          "model_module": "@jupyter-widgets/base",
          "model_module_version": "1.2.0",
          "model_name": "LayoutModel",
          "state": {
            "_model_module": "@jupyter-widgets/base",
            "_model_module_version": "1.2.0",
            "_model_name": "LayoutModel",
            "_view_count": null,
            "_view_module": "@jupyter-widgets/base",
            "_view_module_version": "1.2.0",
            "_view_name": "LayoutView",
            "align_content": null,
            "align_items": null,
            "align_self": null,
            "border": null,
            "bottom": null,
            "display": null,
            "flex": null,
            "flex_flow": null,
            "grid_area": null,
            "grid_auto_columns": null,
            "grid_auto_flow": null,
            "grid_auto_rows": null,
            "grid_column": null,
            "grid_gap": null,
            "grid_row": null,
            "grid_template_areas": null,
            "grid_template_columns": null,
            "grid_template_rows": null,
            "height": null,
            "justify_content": null,
            "justify_items": null,
            "left": null,
            "margin": null,
            "max_height": null,
            "max_width": null,
            "min_height": null,
            "min_width": null,
            "object_fit": null,
            "object_position": null,
            "order": null,
            "overflow": null,
            "overflow_x": null,
            "overflow_y": null,
            "padding": null,
            "right": null,
            "top": null,
            "visibility": null,
            "width": null
          }
        },
        "c64aaaed9ca64898b9179419f1271047": {
          "model_module": "@jupyter-widgets/base",
          "model_module_version": "1.2.0",
          "model_name": "LayoutModel",
          "state": {
            "_model_module": "@jupyter-widgets/base",
            "_model_module_version": "1.2.0",
            "_model_name": "LayoutModel",
            "_view_count": null,
            "_view_module": "@jupyter-widgets/base",
            "_view_module_version": "1.2.0",
            "_view_name": "LayoutView",
            "align_content": null,
            "align_items": null,
            "align_self": null,
            "border": null,
            "bottom": null,
            "display": null,
            "flex": null,
            "flex_flow": null,
            "grid_area": null,
            "grid_auto_columns": null,
            "grid_auto_flow": null,
            "grid_auto_rows": null,
            "grid_column": null,
            "grid_gap": null,
            "grid_row": null,
            "grid_template_areas": null,
            "grid_template_columns": null,
            "grid_template_rows": null,
            "height": null,
            "justify_content": null,
            "justify_items": null,
            "left": null,
            "margin": null,
            "max_height": null,
            "max_width": null,
            "min_height": null,
            "min_width": null,
            "object_fit": null,
            "object_position": null,
            "order": null,
            "overflow": null,
            "overflow_x": null,
            "overflow_y": null,
            "padding": null,
            "right": null,
            "top": null,
            "visibility": null,
            "width": null
          }
        },
        "cc1142c670fc44d395d43d6283b060c4": {
          "model_module": "@jupyter-widgets/base",
          "model_module_version": "1.2.0",
          "model_name": "LayoutModel",
          "state": {
            "_model_module": "@jupyter-widgets/base",
            "_model_module_version": "1.2.0",
            "_model_name": "LayoutModel",
            "_view_count": null,
            "_view_module": "@jupyter-widgets/base",
            "_view_module_version": "1.2.0",
            "_view_name": "LayoutView",
            "align_content": null,
            "align_items": null,
            "align_self": null,
            "border": null,
            "bottom": null,
            "display": null,
            "flex": null,
            "flex_flow": null,
            "grid_area": null,
            "grid_auto_columns": null,
            "grid_auto_flow": null,
            "grid_auto_rows": null,
            "grid_column": null,
            "grid_gap": null,
            "grid_row": null,
            "grid_template_areas": null,
            "grid_template_columns": null,
            "grid_template_rows": null,
            "height": null,
            "justify_content": null,
            "justify_items": null,
            "left": null,
            "margin": null,
            "max_height": null,
            "max_width": null,
            "min_height": null,
            "min_width": null,
            "object_fit": null,
            "object_position": null,
            "order": null,
            "overflow": null,
            "overflow_x": null,
            "overflow_y": null,
            "padding": null,
            "right": null,
            "top": null,
            "visibility": null,
            "width": null
          }
        },
        "da4249dc43df4673b8c368891a41105e": {
          "model_module": "@jupyter-widgets/controls",
          "model_module_version": "1.5.0",
          "model_name": "HTMLModel",
          "state": {
            "_dom_classes": [],
            "_model_module": "@jupyter-widgets/controls",
            "_model_module_version": "1.5.0",
            "_model_name": "HTMLModel",
            "_view_count": null,
            "_view_module": "@jupyter-widgets/controls",
            "_view_module_version": "1.5.0",
            "_view_name": "HTMLView",
            "description": "",
            "description_tooltip": null,
            "layout": "IPY_MODEL_3fb1aae3f404436db4823a407aeece8c",
            "placeholder": "​",
            "style": "IPY_MODEL_4fc87b1053604defbf939d7e8ba46294",
            "value": " 2/2 [01:17&lt;00:00, 36.92s/it]"
          }
        },
        "ee009badc93740adbf45381332159329": {
          "model_module": "@jupyter-widgets/controls",
          "model_module_version": "1.5.0",
          "model_name": "ProgressStyleModel",
          "state": {
            "_model_module": "@jupyter-widgets/controls",
            "_model_module_version": "1.5.0",
            "_model_name": "ProgressStyleModel",
            "_view_count": null,
            "_view_module": "@jupyter-widgets/base",
            "_view_module_version": "1.2.0",
            "_view_name": "StyleView",
            "bar_color": null,
            "description_width": ""
          }
        }
      }
    }
  },
  "nbformat": 4,
  "nbformat_minor": 0
}
